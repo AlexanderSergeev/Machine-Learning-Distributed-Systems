{
 "cells": [
  {
   "cell_type": "markdown",
   "metadata": {},
   "source": [
    "Getting data:"
   ]
  },
  {
   "cell_type": "code",
   "execution_count": 56,
   "metadata": {},
   "outputs": [
    {
     "name": "stdout",
     "output_type": "stream",
     "text": [
      "['alt.atheism',\n",
      " 'comp.graphics',\n",
      " 'comp.os.ms-windows.misc',\n",
      " 'comp.sys.ibm.pc.hardware',\n",
      " 'comp.sys.mac.hardware',\n",
      " 'comp.windows.x',\n",
      " 'misc.forsale',\n",
      " 'rec.autos',\n",
      " 'rec.motorcycles',\n",
      " 'rec.sport.baseball',\n",
      " 'rec.sport.hockey',\n",
      " 'sci.crypt',\n",
      " 'sci.electronics',\n",
      " 'sci.med',\n",
      " 'sci.space',\n",
      " 'soc.religion.christian',\n",
      " 'talk.politics.guns',\n",
      " 'talk.politics.mideast',\n",
      " 'talk.politics.misc',\n",
      " 'talk.religion.misc']\n"
     ]
    }
   ],
   "source": [
    "from sklearn.datasets import fetch_20newsgroups\n",
    "categories = ['alt.atheism', 'talk.religion.misc','comp.graphics', 'sci.space']\n",
    "categories = None\n",
    "twenty_train = fetch_20newsgroups(subset='train', remove=('headers', 'footers', 'quotes'), categories=categories, shuffle=True, random_state=42)\n",
    "\n",
    "from pprint import pprint\n",
    "pprint(list(twenty_train.target_names))"
   ]
  },
  {
   "cell_type": "code",
   "execution_count": 57,
   "metadata": {},
   "outputs": [
    {
     "data": {
      "text/plain": [
       "(11314,)"
      ]
     },
     "execution_count": 57,
     "metadata": {},
     "output_type": "execute_result"
    }
   ],
   "source": [
    "twenty_train.filenames.shape"
   ]
  },
  {
   "cell_type": "code",
   "execution_count": 58,
   "metadata": {},
   "outputs": [
    {
     "data": {
      "text/plain": [
       "(11314,)"
      ]
     },
     "execution_count": 58,
     "metadata": {},
     "output_type": "execute_result"
    }
   ],
   "source": [
    "twenty_train.target.shape"
   ]
  },
  {
   "cell_type": "code",
   "execution_count": 59,
   "metadata": {},
   "outputs": [
    {
     "data": {
      "text/plain": [
       "array([ 7,  4,  4,  1, 14, 16, 13,  3,  2,  4])"
      ]
     },
     "execution_count": 59,
     "metadata": {},
     "output_type": "execute_result"
    }
   ],
   "source": [
    "twenty_train.target[:10]"
   ]
  },
  {
   "cell_type": "markdown",
   "metadata": {},
   "source": [
    "Converting text to vectors and training SVM:"
   ]
  },
  {
   "cell_type": "code",
   "execution_count": 84,
   "metadata": {},
   "outputs": [],
   "source": [
    "from sklearn.pipeline import Pipeline\n",
    "from sklearn.linear_model import SGDClassifier\n",
    "from sklearn.feature_extraction.text import TfidfTransformer\n",
    "from sklearn.feature_extraction.text import CountVectorizer\n",
    "\n",
    "text_clf = Pipeline([('vect', CountVectorizer()),('tfidf', TfidfTransformer()),\n",
    "                     ('clf', SGDClassifier(penalty='l2',alpha=0.0001, max_iter=50, random_state=42)),])\n",
    "_ = text_clf.fit(twenty_train.data, twenty_train.target)"
   ]
  },
  {
   "cell_type": "code",
   "execution_count": 85,
   "metadata": {},
   "outputs": [
    {
     "data": {
      "text/plain": [
       "0.69676048858205"
      ]
     },
     "execution_count": 85,
     "metadata": {},
     "output_type": "execute_result"
    }
   ],
   "source": [
    "import numpy as np\n",
    "twenty_test = fetch_20newsgroups(subset='test', remove=('headers', 'footers', 'quotes'), categories=categories, shuffle=True, random_state=42)\n",
    "docs_test = twenty_test.data\n",
    "predicted = text_clf.predict(docs_test)\n",
    "np.mean(predicted == twenty_test.target) "
   ]
  },
  {
   "cell_type": "code",
   "execution_count": 86,
   "metadata": {},
   "outputs": [
    {
     "name": "stdout",
     "output_type": "stream",
     "text": [
      "                          precision    recall  f1-score   support\n",
      "\n",
      "             alt.atheism       0.53      0.49      0.51       319\n",
      "           comp.graphics       0.67      0.72      0.69       389\n",
      " comp.os.ms-windows.misc       0.63      0.62      0.62       394\n",
      "comp.sys.ibm.pc.hardware       0.68      0.66      0.67       392\n",
      "   comp.sys.mac.hardware       0.76      0.71      0.74       385\n",
      "          comp.windows.x       0.80      0.71      0.75       395\n",
      "            misc.forsale       0.77      0.81      0.79       390\n",
      "               rec.autos       0.78      0.71      0.74       396\n",
      "         rec.motorcycles       0.80      0.76      0.78       398\n",
      "      rec.sport.baseball       0.55      0.84      0.67       397\n",
      "        rec.sport.hockey       0.85      0.89      0.87       399\n",
      "               sci.crypt       0.83      0.72      0.77       396\n",
      "         sci.electronics       0.62      0.56      0.59       393\n",
      "                 sci.med       0.75      0.78      0.77       396\n",
      "               sci.space       0.71      0.75      0.73       394\n",
      "  soc.religion.christian       0.63      0.83      0.71       398\n",
      "      talk.politics.guns       0.57      0.69      0.63       364\n",
      "   talk.politics.mideast       0.82      0.76      0.79       376\n",
      "      talk.politics.misc       0.59      0.45      0.51       310\n",
      "      talk.religion.misc       0.52      0.24      0.33       251\n",
      "\n",
      "               micro avg       0.70      0.70      0.70      7532\n",
      "               macro avg       0.69      0.68      0.68      7532\n",
      "            weighted avg       0.70      0.70      0.69      7532\n",
      "\n"
     ]
    }
   ],
   "source": [
    "from sklearn import metrics\n",
    "print(metrics.classification_report(twenty_test.target, predicted, target_names=twenty_test.target_names))"
   ]
  },
  {
   "cell_type": "code",
   "execution_count": 87,
   "metadata": {},
   "outputs": [
    {
     "data": {
      "text/plain": [
       "array([[155,   2,   1,   1,   0,   2,   3,   4,   3,  12,   3,   3,  10,\n",
       "         10,  12,  53,   7,  14,   6,  18],\n",
       "       [  7, 279,  20,   9,   5,  18,   4,   1,   3,   9,   1,   8,   8,\n",
       "          2,   9,   2,   1,   2,   0,   1],\n",
       "       [  4,  19, 244,  31,  16,  16,   4,   2,   2,  18,   2,   1,   1,\n",
       "          9,  10,   1,   3,   3,   6,   2],\n",
       "       [  1,  12,  35, 257,  23,   6,  12,   1,   2,   8,   1,   2,  26,\n",
       "          1,   1,   0,   1,   0,   2,   1],\n",
       "       [  1,   6,   9,  28, 273,   6,   9,   4,   6,  14,   1,   3,  11,\n",
       "          1,   5,   2,   4,   0,   2,   0],\n",
       "       [  0,  43,  36,   5,   5, 279,   4,   0,   0,   5,   1,   3,   4,\n",
       "          1,   7,   1,   0,   1,   0,   0],\n",
       "       [  0,   3,   2,  10,  11,   0, 316,   6,   4,  11,   2,   1,   9,\n",
       "          0,   5,   2,   5,   1,   1,   1],\n",
       "       [  6,   0,   3,   2,   1,   1,  11, 280,  14,  29,   2,   1,  19,\n",
       "          3,   8,   1,   5,   4,   4,   2],\n",
       "       [  2,   2,   2,   1,   2,   0,   5,  21, 303,  15,   2,   1,   8,\n",
       "          6,   7,   5,   5,   2,   7,   2],\n",
       "       [  2,   2,   0,   0,   1,   1,   8,   2,   5, 332,  25,   0,   1,\n",
       "          5,   0,   6,   1,   0,   6,   0],\n",
       "       [  1,   1,   2,   0,   0,   0,   0,   3,   1,  20, 354,   1,   1,\n",
       "          4,   4,   2,   3,   1,   0,   1],\n",
       "       [  2,   5,   5,   3,   6,   5,   5,   3,   3,  19,   3, 284,   8,\n",
       "          5,   6,   5,  13,   4,   9,   3],\n",
       "       [  3,  11,  13,  23,   8,   7,  15,   8,  12,  17,   4,  16, 220,\n",
       "         16,  10,   3,   3,   2,   2,   0],\n",
       "       [  7,   7,   2,   0,   1,   0,   2,   5,   2,  16,   6,   1,   8,\n",
       "        310,   6,   7,   3,   5,   7,   1],\n",
       "       [  4,  10,   3,   0,   2,   1,   3,   7,   4,  18,   3,   3,  10,\n",
       "          9, 296,   6,   6,   3,   6,   0],\n",
       "       [ 18,   3,   2,   0,   0,   1,   0,   0,   0,  16,   0,   1,   1,\n",
       "          8,   4, 329,   0,   1,   4,  10],\n",
       "       [  3,   2,   5,   3,   1,   2,   2,   4,   6,  16,   1,   6,   2,\n",
       "          7,   7,  10, 250,   8,  20,   9],\n",
       "       [ 25,   1,   1,   2,   1,   2,   1,   2,   5,   9,   1,   3,   3,\n",
       "          2,   1,  12,  10, 286,   8,   1],\n",
       "       [ 14,   1,   0,   2,   1,   0,   1,   5,   4,   9,   5,   4,   2,\n",
       "          4,  12,   4,  92,   5, 140,   5],\n",
       "       [ 36,   5,   2,   2,   0,   2,   3,   3,   1,   8,   1,   0,   1,\n",
       "         11,   5,  72,  23,   7,   8,  61]], dtype=int64)"
      ]
     },
     "execution_count": 87,
     "metadata": {},
     "output_type": "execute_result"
    }
   ],
   "source": [
    "metrics.confusion_matrix(twenty_test.target, predicted)"
   ]
  },
  {
   "cell_type": "markdown",
   "metadata": {},
   "source": [
    "Applying GridSearch:"
   ]
  },
  {
   "cell_type": "code",
   "execution_count": 80,
   "metadata": {},
   "outputs": [
    {
     "name": "stdout",
     "output_type": "stream",
     "text": [
      "Automatically created module for IPython interactive environment\n",
      "Loading 20 newsgroups dataset for categories:\n",
      "None\n",
      "11314 documents\n",
      "20 categories\n",
      "\n",
      "Performing grid search...\n",
      "pipeline: ['vect', 'tfidf', 'clf']\n",
      "parameters:\n",
      "{'clf__alpha': (0.001, 0.0001, 1e-05),\n",
      " 'clf__max_iter': (5, 10, 50),\n",
      " 'clf__penalty': ('l2', 'elasticnet')}\n",
      "Fitting 3 folds for each of 18 candidates, totalling 54 fits\n"
     ]
    },
    {
     "name": "stderr",
     "output_type": "stream",
     "text": [
      "D:\\Anaconda\\lib\\site-packages\\sklearn\\model_selection\\_split.py:1943: FutureWarning: You should specify a value for 'cv' instead of relying on the default value. The default value will change from 3 to 5 in version 0.22.\n",
      "  warnings.warn(CV_WARNING, FutureWarning)\n",
      "[Parallel(n_jobs=-1)]: Using backend LokyBackend with 4 concurrent workers.\n",
      "[Parallel(n_jobs=-1)]: Done  42 tasks      | elapsed:  5.4min\n",
      "[Parallel(n_jobs=-1)]: Done  54 out of  54 | elapsed:  7.2min finished\n"
     ]
    },
    {
     "name": "stdout",
     "output_type": "stream",
     "text": [
      "done in 444.105s\n",
      "\n",
      "Best score: 0.751\n",
      "Best parameters set:\n",
      "\tclf__alpha: 0.0001\n",
      "\tclf__max_iter: 50\n",
      "\tclf__penalty: 'l2'\n"
     ]
    }
   ],
   "source": [
    "from __future__ import print_function\n",
    "from time import time\n",
    "import logging\n",
    "\n",
    "from sklearn.model_selection import GridSearchCV\n",
    "\n",
    "print(__doc__)\n",
    "\n",
    "# Display progress logs on stdout\n",
    "logging.basicConfig(level=logging.INFO,\n",
    "                    format='%(asctime)s %(levelname)s %(message)s')\n",
    "\n",
    "categories = None\n",
    "\n",
    "print(\"Loading 20 newsgroups dataset for categories:\")\n",
    "print(categories)\n",
    "\n",
    "data = fetch_20newsgroups(subset='train', remove=('headers', 'footers', 'quotes'), categories=categories)\n",
    "print(\"%d documents\" % len(data.filenames))\n",
    "print(\"%d categories\" % len(data.target_names))\n",
    "print()\n",
    "\n",
    "pipeline = Pipeline([\n",
    "    ('vect', CountVectorizer()),\n",
    "    ('tfidf', TfidfTransformer()),\n",
    "    ('clf', SGDClassifier()),\n",
    "])\n",
    "\n",
    "parameters = {\n",
    "    #'vect__max_df': (0.5, 0.75, 1.0),\n",
    "    #'vect__max_features': (None, 5000, 10000, 50000),\n",
    "    #'vect__ngram_range': ((1, 1), (1, 2)),  # unigrams or bigrams\n",
    "    #'tfidf__use_idf': (True, False),\n",
    "    #'tfidf__norm': ('l1', 'l2'),\n",
    "    'clf__alpha': (0.001, 0.0001, 0.00001),\n",
    "    'clf__penalty': ('l2', 'elasticnet'),\n",
    "    'clf__max_iter': (5, 10, 50),\n",
    "}\n",
    "\n",
    "if __name__ == \"__main__\":\n",
    "    grid_search = GridSearchCV(pipeline, parameters, n_jobs=-1, verbose=1)\n",
    "\n",
    "    print(\"Performing grid search...\")\n",
    "    print(\"pipeline:\", [name for name, _ in pipeline.steps])\n",
    "    print(\"parameters:\")\n",
    "    pprint(parameters)\n",
    "    t0 = time()\n",
    "    grid_search.fit(data.data, data.target)\n",
    "    print(\"done in %0.3fs\" % (time() - t0))\n",
    "    print()\n",
    "\n",
    "    print(\"Best score: %0.3f\" % grid_search.best_score_)\n",
    "    print(\"Best parameters set:\")\n",
    "    best_parameters = grid_search.best_estimator_.get_params()\n",
    "    for param_name in sorted(parameters.keys()):\n",
    "        print(\"\\t%s: %r\" % (param_name, best_parameters[param_name]))"
   ]
  },
  {
   "cell_type": "code",
   "execution_count": null,
   "metadata": {},
   "outputs": [],
   "source": []
  }
 ],
 "metadata": {
  "kernelspec": {
   "display_name": "Python 3",
   "language": "python",
   "name": "python3"
  },
  "language_info": {
   "codemirror_mode": {
    "name": "ipython",
    "version": 3
   },
   "file_extension": ".py",
   "mimetype": "text/x-python",
   "name": "python",
   "nbconvert_exporter": "python",
   "pygments_lexer": "ipython3",
   "version": "3.6.5"
  }
 },
 "nbformat": 4,
 "nbformat_minor": 1
}
